{
  "nbformat_minor": 0,
  "cells": [
    {
      "source": [
        "%matplotlib inline"
      ],
      "cell_type": "code",
      "metadata": {
        "collapsed": false
      },
      "execution_count": null,
      "outputs": []
    },
    {
      "cell_type": "markdown",
      "source": [
        "\n# One Chain\n\n\nPlot one chain with parameter names.\n\nBecause we are only plotting one chain, we will get\nparameter bounds on the marginalised surfaces by\ndefault.\n\n"
      ],
      "metadata": {}
    },
    {
      "source": [
        "import numpy as np\nfrom numpy.random import normal, multivariate_normal\nfrom chainconsumer import ChainConsumer\n\n\nif __name__ == \"__main__\":\n    np.random.seed(0)\n    cov = 1e2 * normal(size=(3, 3))\n    data = multivariate_normal(1e3 * normal(size=3), 0.5 * (cov + cov.T), size=100000)\n\n    # If you pass in parameter labels and only one chain, you can also get parameter bounds\n    fig = ChainConsumer().add_chain(data, parameters=[\"$x$\", \"$y$\", r\"$\\epsilon$\"]).plotter.plot()\n\n    fig.set_size_inches(4.5 + fig.get_size_inches())  # Resize fig for doco. You don't need this."
      ],
      "cell_type": "code",
      "metadata": {
        "collapsed": false
      },
      "execution_count": null,
      "outputs": []
    }
  ],
  "nbformat": 4,
  "metadata": {
    "language_info": {
      "nbconvert_exporter": "python",
      "mimetype": "text/x-python",
      "codemirror_mode": {
        "name": "ipython",
        "version": 3
      },
      "name": "python",
      "file_extension": ".py",
      "version": "3.5.4",
      "pygments_lexer": "ipython3"
    },
    "kernelspec": {
      "name": "python3",
      "display_name": "Python 3",
      "language": "python"
    }
  }
}