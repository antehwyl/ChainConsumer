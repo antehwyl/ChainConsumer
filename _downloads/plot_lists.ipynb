{
  "nbformat_minor": 0,
  "cells": [
    {
      "source": [
        "%matplotlib inline"
      ],
      "cell_type": "code",
      "metadata": {
        "collapsed": false
      },
      "execution_count": null,
      "outputs": []
    },
    {
      "cell_type": "markdown",
      "source": [
        "\n# Using List Options\n\n\nUtilise all the list options in the configuration!\n\nThis is a general example to illustrate that most parameters\nthat you can pass to the configuration methods accept lists.\n\n\n"
      ],
      "metadata": {}
    },
    {
      "source": [
        "import numpy as np\nfrom numpy.random import normal, multivariate_normal\nfrom chainconsumer import ChainConsumer\n\nif __name__ == \"__main__\":\n    np.random.seed(2)\n    cov = normal(size=(2, 2)) + np.identity(2)\n    d1 = multivariate_normal(normal(size=2), 0.5 * (cov + cov.T), size=100000)\n    cov = normal(size=(2, 2)) + np.identity(2)\n    d2 = multivariate_normal(normal(size=2), 0.5 * (cov + cov.T), size=100000)\n    cov = normal(size=(2, 2)) + np.identity(2)\n    d3 = multivariate_normal(normal(size=2), 0.5 * (cov + cov.T), size=1000000)\n\n    c = ChainConsumer()\n    c.add_chain(d1, parameters=[\"$x$\", \"$y$\"])\n    c.add_chain(d2)\n    c.add_chain(d3)\n\n    c.configure(linestyles=[\"-\", \"--\", \"-\"], linewidths=[1.0, 3.0, 1.0],\n                bins=[3.0, 1.0, 1.0], colors=[\"#1E88E5\", \"#D32F2F\", \"#111111\"],\n                smooth=[0, 1, 2], shade=[True, True, False],\n                shade_alpha=[0.2, 0.1, 0.0], bar_shade=[True, False, False])\n    fig = c.plotter.plot()\n\n    fig.set_size_inches(4.5 + fig.get_size_inches())  # Resize fig for doco. You don't need this."
      ],
      "cell_type": "code",
      "metadata": {
        "collapsed": false
      },
      "execution_count": null,
      "outputs": []
    }
  ],
  "nbformat": 4,
  "metadata": {
    "language_info": {
      "nbconvert_exporter": "python",
      "mimetype": "text/x-python",
      "codemirror_mode": {
        "name": "ipython",
        "version": 3
      },
      "name": "python",
      "file_extension": ".py",
      "version": "3.5.4",
      "pygments_lexer": "ipython3"
    },
    "kernelspec": {
      "name": "python3",
      "display_name": "Python 3",
      "language": "python"
    }
  }
}