{
  "nbformat_minor": 0,
  "cells": [
    {
      "source": [
        "%matplotlib inline"
      ],
      "cell_type": "code",
      "metadata": {
        "collapsed": false
      },
      "execution_count": null,
      "outputs": []
    },
    {
      "cell_type": "markdown",
      "source": [
        "\n=========================\nPlot Many Things For Fun!\n=========================\n\nLets try a few things to give what might be a usable plot to through into our latest paper.\n\nOr something.\n\nFirst lets mock some highly correlated data with colour scatter. And then throw a few more\ndata sets in to get some overlap.\n\n"
      ],
      "metadata": {}
    },
    {
      "source": [
        "import numpy as np\nfrom numpy.random import normal, multivariate_normal, uniform\nfrom chainconsumer import ChainConsumer\n\nif __name__ == \"__main__\":\n    np.random.seed(1)\n    n = 100000\n    data = multivariate_normal([0.4, 1], [[0.01, -0.003], [-0.003, 0.001]], size=n)\n    data = np.hstack((data, (67 + 10 * data[:, 0] - data[:, 1] ** 2)[:, None]))\n    data2 = np.vstack((uniform(-0.1, 1.1, n), normal(1.2, 0.1, n))).T\n    data2[:, 1] -= (data2[:, 0] ** 2)\n    data3 = multivariate_normal([0.3, 0.7], [[0.02, 0.05], [0.05, 0.1]], size=n)\n\n    c = ChainConsumer()\n    c.add_chain(data2, parameters=[\"$\\Omega_m$\", \"$-w$\"], name=\"B\")\n    c.add_chain(data3, name=\"S\")\n    c.add_chain(data, parameters=[\"$\\Omega_m$\", \"$-w$\", \"$H_0$\"], name=\"P\")\n\n    c.configure(color_params=\"$H_0$\", shade=[True, True, False],\n                shade_alpha=0.2, bar_shade=True, linestyles=[\"-\", \"--\", \"-\"])\n    fig = c.plotter.plot(figsize=2.0, extents=[[0, 1], [0, 1.5]])\n\n    fig.set_size_inches(4.5 + fig.get_size_inches())  # Resize fig for doco. You don't need this."
      ],
      "cell_type": "code",
      "metadata": {
        "collapsed": false
      },
      "execution_count": null,
      "outputs": []
    }
  ],
  "nbformat": 4,
  "metadata": {
    "language_info": {
      "nbconvert_exporter": "python",
      "mimetype": "text/x-python",
      "codemirror_mode": {
        "name": "ipython",
        "version": 3
      },
      "name": "python",
      "file_extension": ".py",
      "version": "3.5.4",
      "pygments_lexer": "ipython3"
    },
    "kernelspec": {
      "name": "python3",
      "display_name": "Python 3",
      "language": "python"
    }
  }
}