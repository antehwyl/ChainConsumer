{
  "nbformat_minor": 0,
  "cells": [
    {
      "source": [
        "%matplotlib inline"
      ],
      "cell_type": "code",
      "metadata": {
        "collapsed": false
      },
      "execution_count": null,
      "outputs": []
    },
    {
      "cell_type": "markdown",
      "source": [
        "\n# Plot Walks\n\n\nYou can also plot the walks that your chains have undertaken.\n\nThis is a very helpful plot to create when determining if your chains have\nconverged and mixed. Below is an example walk from a Metropolis-Hastings run,\nwhere we have set the optional parameters for the weights and posteriors,\ngiving the top two subplots.\n\n.. figure::     ../../examples/resources/exampleWalk.png\n    :align:     center\n\n\n"
      ],
      "metadata": {}
    },
    {
      "cell_type": "markdown",
      "source": [
        "To generate your own walk, with a 100 point smoothed walk overplotting,\nyou can use the following code:\n\n"
      ],
      "metadata": {}
    },
    {
      "source": [
        "import numpy as np\nfrom chainconsumer import ChainConsumer\n\nif __name__ == \"__main__\":\n    np.random.seed(0)\n    data1 = np.random.randn(100000, 2)\n    data2 = np.random.randn(100000, 2) - 2\n    data1[:, 1] += 1\n\n    c = ChainConsumer()\n    c.add_chain(data1, parameters=[\"$x$\", \"$y$\"])\n    c.add_chain(data2, parameters=[\"$x$\", \"$z$\"])\n    fig = c.plotter.plot_walks(truth={\"$x$\": -1, \"$y$\": 1, \"$z$\": -2}, convolve=100)\n\n    fig.set_size_inches(4.5 + fig.get_size_inches())  # Resize fig for doco. You don't need this."
      ],
      "cell_type": "code",
      "metadata": {
        "collapsed": false
      },
      "execution_count": null,
      "outputs": []
    }
  ],
  "nbformat": 4,
  "metadata": {
    "language_info": {
      "nbconvert_exporter": "python",
      "mimetype": "text/x-python",
      "codemirror_mode": {
        "name": "ipython",
        "version": 3
      },
      "name": "python",
      "file_extension": ".py",
      "version": "3.5.4",
      "pygments_lexer": "ipython3"
    },
    "kernelspec": {
      "name": "python3",
      "display_name": "Python 3",
      "language": "python"
    }
  }
}