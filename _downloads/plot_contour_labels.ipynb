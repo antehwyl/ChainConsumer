{
  "nbformat_minor": 0,
  "cells": [
    {
      "source": [
        "%matplotlib inline"
      ],
      "cell_type": "code",
      "metadata": {
        "collapsed": false
      },
      "execution_count": null,
      "outputs": []
    },
    {
      "cell_type": "markdown",
      "source": [
        "\n# Contour Labels\n\n\nPlot contours using labels.\n\nYou can set the contour_labels to display confidence levels, as shown below.\n\n\n"
      ],
      "metadata": {}
    },
    {
      "source": [
        "from numpy.random import multivariate_normal\nfrom chainconsumer import ChainConsumer\n\n\ndata = multivariate_normal([0, 0], [[1, 0.5], [0.5, 1.0]], size=1000000)\n\n\nc = ChainConsumer().add_chain(data).configure(contour_labels=\"confidence\")\nfig = c.plotter.plot()\nfig.set_size_inches(4.5 + fig.get_size_inches())  # Resize fig for doco. You don't need this."
      ],
      "cell_type": "code",
      "metadata": {
        "collapsed": false
      },
      "execution_count": null,
      "outputs": []
    },
    {
      "cell_type": "markdown",
      "source": [
        "Or you can plot in terms of sigma. Note that most people prefer stating\nthe confidence levels, because of the ambiguity over sigma levels introduced\nby the `sigma2d` keyword.\n\n"
      ],
      "metadata": {}
    },
    {
      "source": [
        "c = ChainConsumer().add_chain(data).configure(contour_labels=\"sigma\")\nfig = c.plotter.plot()\nfig.set_size_inches(4.5 + fig.get_size_inches())  # Resize fig for doco. You don't need this."
      ],
      "cell_type": "code",
      "metadata": {
        "collapsed": false
      },
      "execution_count": null,
      "outputs": []
    }
  ],
  "nbformat": 4,
  "metadata": {
    "language_info": {
      "nbconvert_exporter": "python",
      "mimetype": "text/x-python",
      "codemirror_mode": {
        "name": "ipython",
        "version": 3
      },
      "name": "python",
      "file_extension": ".py",
      "version": "3.5.4",
      "pygments_lexer": "ipython3"
    },
    "kernelspec": {
      "name": "python3",
      "display_name": "Python 3",
      "language": "python"
    }
  }
}