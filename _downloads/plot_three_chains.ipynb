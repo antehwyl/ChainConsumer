{
  "nbformat_minor": 0,
  "cells": [
    {
      "source": [
        "%matplotlib inline"
      ],
      "cell_type": "code",
      "metadata": {
        "collapsed": false
      },
      "execution_count": null,
      "outputs": []
    },
    {
      "cell_type": "markdown",
      "source": [
        "\n# Three Chains\n\n\nPlot three chains together. Name the chains to get a legend.\n\n\n\n"
      ],
      "metadata": {}
    },
    {
      "source": [
        "import numpy as np\nfrom numpy.random import normal, random, multivariate_normal\nfrom chainconsumer import ChainConsumer\n\n\nif __name__ == \"__main__\":\n    np.random.seed(0)\n    cov = random(size=(3, 3)) + np.identity(3)\n    data = multivariate_normal(normal(size=3), 0.5 * (cov + cov.T), size=100000)\n    cov = random(size=(3, 3)) + np.identity(3)\n    data2 = multivariate_normal(normal(size=3), 0.5 * (cov + cov.T), size=100000)\n    cov = random(size=(3, 3)) + np.identity(3)\n    data3 = multivariate_normal(normal(size=3), 0.5 * (cov + cov.T), size=100000)\n\n    # If the parameters are the same between chains, you can just pass it the\n    # first time, and they will become the default parameters.\n    fig = ChainConsumer()\\\n        .add_chain(data, parameters=[\"$x$\", \"$y$\", r\"$\\epsilon$\"], name=\"Test chain\")\\\n        .add_chain(data2, name=\"Chain2\")\\\n        .add_chain(data3, name=\"Chain3\") \\\n        .plotter.plot()\n\n    fig.set_size_inches(4.5 + fig.get_size_inches())  # Resize fig for doco. You don't need this."
      ],
      "cell_type": "code",
      "metadata": {
        "collapsed": false
      },
      "execution_count": null,
      "outputs": []
    }
  ],
  "nbformat": 4,
  "metadata": {
    "language_info": {
      "nbconvert_exporter": "python",
      "mimetype": "text/x-python",
      "codemirror_mode": {
        "name": "ipython",
        "version": 3
      },
      "name": "python",
      "file_extension": ".py",
      "version": "3.5.4",
      "pygments_lexer": "ipython3"
    },
    "kernelspec": {
      "name": "python3",
      "display_name": "Python 3",
      "language": "python"
    }
  }
}