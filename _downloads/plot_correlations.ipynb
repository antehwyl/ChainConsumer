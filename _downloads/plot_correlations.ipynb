{
  "nbformat_minor": 0,
  "cells": [
    {
      "source": [
        "%matplotlib inline"
      ],
      "cell_type": "code",
      "metadata": {
        "collapsed": false
      },
      "execution_count": null,
      "outputs": []
    },
    {
      "cell_type": "markdown",
      "source": [
        "\n# Plot Parameter Correlations\n\n\nYou can also get LaTeX tables for parameter correlations.\n\nTurned into glorious LaTeX, we would get something like the following:\n\n.. figure::     ../../examples/resources/correlations.png\n    :align:     center\n    :width:     60%\n\n\n"
      ],
      "metadata": {}
    },
    {
      "cell_type": "markdown",
      "source": [
        "The code to produce this, and the raw LaTeX, is given below:\n\n"
      ],
      "metadata": {}
    },
    {
      "source": [
        "import numpy as np\nfrom chainconsumer import ChainConsumer\n\n\nif __name__ == \"__main__\":\n    cov = [[1, 0.5, 0.2], [0.5, 1, 0.3], [0.2, 0.3, 1.0]]\n    data = np.random.multivariate_normal([0, 0, 1], cov, size=100000)\n    parameters = [\"x\", \"y\", \"z\"]\n    c = ChainConsumer()\n    c.add_chain(data, parameters=parameters)\n    latex_table = c.analysis.get_correlation_table()\n\n    print(latex_table)"
      ],
      "cell_type": "code",
      "metadata": {
        "collapsed": false
      },
      "execution_count": null,
      "outputs": []
    }
  ],
  "nbformat": 4,
  "metadata": {
    "language_info": {
      "nbconvert_exporter": "python",
      "mimetype": "text/x-python",
      "codemirror_mode": {
        "name": "ipython",
        "version": 3
      },
      "name": "python",
      "file_extension": ".py",
      "version": "3.5.4",
      "pygments_lexer": "ipython3"
    },
    "kernelspec": {
      "name": "python3",
      "display_name": "Python 3",
      "language": "python"
    }
  }
}