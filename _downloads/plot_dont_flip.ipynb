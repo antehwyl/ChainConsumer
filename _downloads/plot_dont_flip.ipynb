{
  "nbformat_minor": 0,
  "cells": [
    {
      "source": [
        "%matplotlib inline"
      ],
      "cell_type": "code",
      "metadata": {
        "collapsed": false
      },
      "execution_count": null,
      "outputs": []
    },
    {
      "cell_type": "markdown",
      "source": [
        "\n=====================\nFlips, Ticks and Size\n=====================\n\nYou can stop the second parameter rotating in the plot if you prefer squares!\n\nUnlike the Introduction example, which shows the rotated plots, this example shows them\nwithout the rotation.\n\nAlso, you can pass in a tuple for the figure size. We also demonstrate adding more\nticks to the axis in this example. Also, I change the colour to red, just for fun.\n\n"
      ],
      "metadata": {}
    },
    {
      "source": [
        "import numpy as np\nfrom chainconsumer import ChainConsumer\n\nif __name__ == \"__main__\":\n    np.random.seed(0)\n    data = np.random.multivariate_normal([1.5, 4.0], [[1.0, 0.7], [0.7, 1.5]], size=1000000)\n    data[:, 0] = np.abs(data[:, 0])\n\n    c = ChainConsumer().add_chain(data, parameters=[\"$x_1$\", \"$x_2$\"])\n    c.configure(flip=False, max_ticks=10, colors=\"#D32F2F\")\n    fig = c.plotter.plot(figsize=(6, 6))\n\n    fig.set_size_inches(4.5 + fig.get_size_inches())  # Resize fig for doco. You don't need this."
      ],
      "cell_type": "code",
      "metadata": {
        "collapsed": false
      },
      "execution_count": null,
      "outputs": []
    }
  ],
  "nbformat": 4,
  "metadata": {
    "language_info": {
      "nbconvert_exporter": "python",
      "mimetype": "text/x-python",
      "codemirror_mode": {
        "name": "ipython",
        "version": 3
      },
      "name": "python",
      "file_extension": ".py",
      "version": "3.5.4",
      "pygments_lexer": "ipython3"
    },
    "kernelspec": {
      "name": "python3",
      "display_name": "Python 3",
      "language": "python"
    }
  }
}