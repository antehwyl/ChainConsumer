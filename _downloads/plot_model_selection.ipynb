{
  "nbformat_minor": 0,
  "cells": [
    {
      "source": [
        "%matplotlib inline"
      ],
      "cell_type": "code",
      "metadata": {
        "collapsed": false
      },
      "execution_count": null,
      "outputs": []
    },
    {
      "cell_type": "markdown",
      "source": [
        "\n# Plot Model Comparison\n\n\nYou can also get LaTeX tables for model comparison.\n\nTurned into glorious LaTeX, we would get something like the following:\n\n.. figure::     ../../examples/resources/table_comparison.png\n    :align:     center\n    :width:     60%\n\n\n"
      ],
      "metadata": {}
    },
    {
      "cell_type": "markdown",
      "source": [
        "The code to produce this, and the raw LaTeX, is given below:\n\n"
      ],
      "metadata": {}
    },
    {
      "source": [
        "from scipy.stats import norm\nfrom chainconsumer import ChainConsumer\n\n\nif __name__ == \"__main__\":\n    n = 10000\n    d1 = norm.rvs(size=n)\n    p1 = norm.logpdf(d1)\n    p2 = norm.logpdf(d1, scale=1.1)\n\n    c = ChainConsumer()\n    c.add_chain(d1, posterior=p1, name=\"Model A\", num_eff_data_points=n, num_free_params=4)\n    c.add_chain(d1, posterior=p2, name=\"Model B\", num_eff_data_points=n, num_free_params=5)\n    c.add_chain(d1, posterior=p2, name=\"Model C\", num_eff_data_points=n, num_free_params=4)\n    c.add_chain(d1, posterior=p1, name=\"Model D\", num_eff_data_points=n, num_free_params=14)\n    table = c.comparison.comparison_table(caption=\"Model comparisons!\")\n    print(table)"
      ],
      "cell_type": "code",
      "metadata": {
        "collapsed": false
      },
      "execution_count": null,
      "outputs": []
    }
  ],
  "nbformat": 4,
  "metadata": {
    "language_info": {
      "nbconvert_exporter": "python",
      "mimetype": "text/x-python",
      "codemirror_mode": {
        "name": "ipython",
        "version": 3
      },
      "name": "python",
      "file_extension": ".py",
      "version": "3.5.4",
      "pygments_lexer": "ipython3"
    },
    "kernelspec": {
      "name": "python3",
      "display_name": "Python 3",
      "language": "python"
    }
  }
}