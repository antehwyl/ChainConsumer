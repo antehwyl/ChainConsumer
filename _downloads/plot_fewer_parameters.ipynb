{
  "nbformat_minor": 0,
  "cells": [
    {
      "source": [
        "%matplotlib inline"
      ],
      "cell_type": "code",
      "metadata": {
        "collapsed": false
      },
      "execution_count": null,
      "outputs": []
    },
    {
      "cell_type": "markdown",
      "source": [
        "\n# Truncated Parameters\n\n\nIf you have a large model, you don't need to plot all parameters at once.\n\nHere we only plot the first four parameters. You could also simply pass the number four,\nwhich means the *first* four parameters.\n\nFor fun, we also plot everything in green. Note you don't need to give multiple colours,\nthe shading is all computed from the colour hex code.\n\n"
      ],
      "metadata": {}
    },
    {
      "source": [
        "import numpy as np\nfrom numpy.random import normal, random, multivariate_normal\nfrom chainconsumer import ChainConsumer\n\n\nif __name__ == \"__main__\":\n    np.random.seed(0)\n    cov = random(size=(6, 6))\n    data = multivariate_normal(normal(size=6), 0.5 * (cov + cov.T), size=200000)\n    parameters = [\"$x$\", \"$y$\", \"$z$\", \"$a$\", \"$b$\", \"$c$\"]\n    c = ChainConsumer().add_chain(data, parameters=parameters).configure(colors=\"#388E3C\")\n    fig = c.plotter.plot(parameters=parameters[:4], figsize=\"page\")\n\n    fig.set_size_inches(4.5 + fig.get_size_inches())  # Resize fig for doco. You don't need this."
      ],
      "cell_type": "code",
      "metadata": {
        "collapsed": false
      },
      "execution_count": null,
      "outputs": []
    }
  ],
  "nbformat": 4,
  "metadata": {
    "language_info": {
      "nbconvert_exporter": "python",
      "mimetype": "text/x-python",
      "codemirror_mode": {
        "name": "ipython",
        "version": 3
      },
      "name": "python",
      "file_extension": ".py",
      "version": "3.5.4",
      "pygments_lexer": "ipython3"
    },
    "kernelspec": {
      "name": "python3",
      "display_name": "Python 3",
      "language": "python"
    }
  }
}