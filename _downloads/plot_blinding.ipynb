{
  "nbformat_minor": 0,
  "cells": [
    {
      "source": [
        "%matplotlib inline"
      ],
      "cell_type": "code",
      "metadata": {
        "collapsed": false
      },
      "execution_count": null,
      "outputs": []
    },
    {
      "cell_type": "markdown",
      "source": [
        "\n# Blinding Parameters\n\n\nYou can blind parameters and not show axis labels very easily!\n\nJust give ChainConsumer the `blind` parameter when plotting. You can specify `True` to blind all parameters,\nor give it a string (or list of strings) detailing the specific parameters you want blinded!\n\n\n"
      ],
      "metadata": {}
    },
    {
      "source": [
        "import numpy as np\nfrom numpy.random import multivariate_normal\nfrom chainconsumer import ChainConsumer\n\nnp.random.seed(0)\ndata = multivariate_normal([0, 0], [[1, 0], [0, 1]], size=1000000)\n\nc = ChainConsumer().add_chain(data, parameters=[\"$x$\", \"$y$\"])\nc.configure(colors=[\"#00ef7b\"])\nfig = c.plotter.plot(blind=\"$y$\")\n\nfig.set_size_inches(2.5 + fig.get_size_inches())  # Resize fig for doco. You don't need this."
      ],
      "cell_type": "code",
      "metadata": {
        "collapsed": false
      },
      "execution_count": null,
      "outputs": []
    }
  ],
  "nbformat": 4,
  "metadata": {
    "language_info": {
      "nbconvert_exporter": "python",
      "mimetype": "text/x-python",
      "codemirror_mode": {
        "name": "ipython",
        "version": 3
      },
      "name": "python",
      "file_extension": ".py",
      "version": "3.5.4",
      "pygments_lexer": "ipython3"
    },
    "kernelspec": {
      "name": "python3",
      "display_name": "Python 3",
      "language": "python"
    }
  }
}