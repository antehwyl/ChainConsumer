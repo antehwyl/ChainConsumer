{
  "nbformat_minor": 0,
  "cells": [
    {
      "source": [
        "%matplotlib inline"
      ],
      "cell_type": "code",
      "metadata": {
        "collapsed": false
      },
      "execution_count": null,
      "outputs": []
    },
    {
      "cell_type": "markdown",
      "source": [
        "\n# Gaussian KDE and Extents\n\n\nSmooth marginalised distributions with a Gaussian KDE, and pick custom extents.\n\n\nNote that invoking the KDE on large data sets will significantly increase rendering time when\nyou have a large number of points. You can also pass a float to your KDE to modify the width\nof the bandpass by that factor!\n\nYou can see the increase in contour smoothness (without broadening) for when you have a\nlow number of samples in your chains!\n\n"
      ],
      "metadata": {}
    },
    {
      "source": [
        "import numpy as np\nfrom chainconsumer import ChainConsumer\n\nif __name__ == \"__main__\":\n    np.random.seed(0)\n    data = np.random.multivariate_normal([0.0, 4.0], [[1.0, -0.7], [-0.7, 1.5]], size=3000)\n\n    c = ChainConsumer()\n    c.add_chain(data, name=\"KDE on\")\n    c.add_chain(data + 1, name=\"KDE off\")\n    c.add_chain(data + 2, name=\"KDE x2!\")\n    c.configure(kde=[True, False, 2.0], shade_alpha=0.1, flip=False)\n    fig = c.plotter.plot(extents=[(-2, 4), (0, 9)])\n\n    fig.set_size_inches(4.5 + fig.get_size_inches())  # Resize fig for doco. You don't need this."
      ],
      "cell_type": "code",
      "metadata": {
        "collapsed": false
      },
      "execution_count": null,
      "outputs": []
    }
  ],
  "nbformat": 4,
  "metadata": {
    "language_info": {
      "nbconvert_exporter": "python",
      "mimetype": "text/x-python",
      "codemirror_mode": {
        "name": "ipython",
        "version": 3
      },
      "name": "python",
      "file_extension": ".py",
      "version": "3.5.4",
      "pygments_lexer": "ipython3"
    },
    "kernelspec": {
      "name": "python3",
      "display_name": "Python 3",
      "language": "python"
    }
  }
}