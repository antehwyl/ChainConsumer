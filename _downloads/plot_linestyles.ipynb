{
  "nbformat_minor": 0,
  "cells": [
    {
      "source": [
        "%matplotlib inline"
      ],
      "cell_type": "code",
      "metadata": {
        "collapsed": false
      },
      "execution_count": null,
      "outputs": []
    },
    {
      "cell_type": "markdown",
      "source": [
        "\n# Changing Linestyles\n\n\nCustomise the plot line styles.\n\nIn this example we customise the line styles used, and make use of\nthe ability to pass lists of parameters to the configuration methods.\n\n\n"
      ],
      "metadata": {}
    },
    {
      "source": [
        "import numpy as np\nfrom numpy.random import normal, multivariate_normal\nfrom chainconsumer import ChainConsumer\n\nif __name__ == \"__main__\":\n    np.random.seed(1)\n    cov = normal(size=(3, 3))\n    data = multivariate_normal(normal(size=3), 0.5 * (cov + cov.T), size=100000)\n    data2 = data * 1.1 + 0.5\n\n    c = ChainConsumer().add_chain(data, parameters=[\"$x$\", \"$y$\", \"$z$\"]).add_chain(data2)\n    c.configure(linestyles=[\"-\", \"--\"], linewidths=[1.0, 2.0],\n                shade=[True, False], shade_alpha=[0.2, 0.0])\n    fig = c.plotter.plot()\n\n    fig.set_size_inches(4.5 + fig.get_size_inches())  # Resize fig for doco. You don't need this."
      ],
      "cell_type": "code",
      "metadata": {
        "collapsed": false
      },
      "execution_count": null,
      "outputs": []
    }
  ],
  "nbformat": 4,
  "metadata": {
    "language_info": {
      "nbconvert_exporter": "python",
      "mimetype": "text/x-python",
      "codemirror_mode": {
        "name": "ipython",
        "version": 3
      },
      "name": "python",
      "file_extension": ".py",
      "version": "3.5.4",
      "pygments_lexer": "ipython3"
    },
    "kernelspec": {
      "name": "python3",
      "display_name": "Python 3",
      "language": "python"
    }
  }
}