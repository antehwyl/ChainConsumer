{
  "nbformat_minor": 0,
  "cells": [
    {
      "source": [
        "%matplotlib inline"
      ],
      "cell_type": "code",
      "metadata": {
        "collapsed": false
      },
      "execution_count": null,
      "outputs": []
    },
    {
      "cell_type": "markdown",
      "source": [
        "\n========================\nMultiple Colour Scatter!\n========================\n\nWhy show only one colour, when you can display more!\n\nIn the basic colour example, we showed one parameter being used\nto give colour information. However, you can pick a different colour, or no colour (`None`),\nfor each chain.\n\nYou can also pick the same parameter in multiple chains, and all the scatter points will be put\non the same colour scale. The underlying contours will still be distinguishable automatically\nby adding alternative linestyles, as shown below.\n\n"
      ],
      "metadata": {}
    },
    {
      "source": [
        "import numpy as np\nfrom numpy.random import normal, multivariate_normal\nfrom chainconsumer import ChainConsumer\n\nif __name__ == \"__main__\":\n    np.random.seed(1)\n    cov = normal(size=(4, 4))\n    data = multivariate_normal(normal(size=4), 0.5 * (cov + cov.T), size=100000)\n    cov = 1 + 0.5 * normal(size=(4, 4))\n    data2 = multivariate_normal(4+normal(size=4), 0.5 * (cov + cov.T), size=100000)\n\n    c = ChainConsumer().add_chain(data, parameters=[\"$x$\", \"$y$\", \"$z$\", \"$g$\"], name=\"a\")\n    c.add_chain(data2, parameters=[\"$x$\", \"$y$\", \"$z$\", \"$t$\"], name=\"b\")\n    c.configure(color_params=[\"$g$\", \"$t$\"])\n    fig = c.plotter.plot(figsize=1.75)\n\n    fig.set_size_inches(4.5 + fig.get_size_inches())  # Resize fig for doco. You don't need this."
      ],
      "cell_type": "code",
      "metadata": {
        "collapsed": false
      },
      "execution_count": null,
      "outputs": []
    }
  ],
  "nbformat": 4,
  "metadata": {
    "language_info": {
      "nbconvert_exporter": "python",
      "mimetype": "text/x-python",
      "codemirror_mode": {
        "name": "ipython",
        "version": 3
      },
      "name": "python",
      "file_extension": ".py",
      "version": "3.5.4",
      "pygments_lexer": "ipython3"
    },
    "kernelspec": {
      "name": "python3",
      "display_name": "Python 3",
      "language": "python"
    }
  }
}