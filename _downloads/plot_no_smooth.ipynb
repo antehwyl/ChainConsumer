{
  "nbformat_minor": 0,
  "cells": [
    {
      "source": [
        "%matplotlib inline"
      ],
      "cell_type": "code",
      "metadata": {
        "collapsed": false
      },
      "execution_count": null,
      "outputs": []
    },
    {
      "cell_type": "markdown",
      "source": [
        "\n# No Smoothing\n\n\nWe can turn off the default gaussian filter on marginalised distributions.\n\nThis can be done by setting ``smooth`` to either ``0``, ``None`` or ``False``.\nNote that the parameter summaries also have smoothing turned off, and\nthus summaries may change.\n\nFun colour change! And thicker lines!\n\n\n"
      ],
      "metadata": {}
    },
    {
      "source": [
        "import numpy as np\nfrom chainconsumer import ChainConsumer\n\nif __name__ == \"__main__\":\n    data = np.random.multivariate_normal([0.0, 4.0], [[1.0, 0.7], [0.7, 1.5]], size=100000)\n\n    c = ChainConsumer()\n    c.add_chain(data, parameters=[\"$x_1$\", \"$x_2$\"])\n    c.configure(smooth=0, linewidths=2, colors=\"#673AB7\")\n    fig = c.plotter.plot(figsize=\"column\", truth=[0.0, 4.0])\n\n    # If we wanted to save to file, we would instead have written\n    # fig = c.plotter.plot(filename=\"location\", figsize=\"column\", truth=[0.0, 4.0])\n\n    # If we wanted to display the plot interactively...\n    # fig = c.plotter.plot(display=True, figsize=\"column\", truth=[0.0, 4.0])\n\n    fig.set_size_inches(4.5 + fig.get_size_inches())  # Resize fig for doco. You don't need this."
      ],
      "cell_type": "code",
      "metadata": {
        "collapsed": false
      },
      "execution_count": null,
      "outputs": []
    }
  ],
  "nbformat": 4,
  "metadata": {
    "language_info": {
      "nbconvert_exporter": "python",
      "mimetype": "text/x-python",
      "codemirror_mode": {
        "name": "ipython",
        "version": 3
      },
      "name": "python",
      "file_extension": ".py",
      "version": "3.5.4",
      "pygments_lexer": "ipython3"
    },
    "kernelspec": {
      "name": "python3",
      "display_name": "Python 3",
      "language": "python"
    }
  }
}