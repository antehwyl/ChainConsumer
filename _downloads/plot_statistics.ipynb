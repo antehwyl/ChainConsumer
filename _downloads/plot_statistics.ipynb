{
  "nbformat_minor": 0,
  "cells": [
    {
      "source": [
        "%matplotlib inline"
      ],
      "cell_type": "code",
      "metadata": {
        "collapsed": false
      },
      "execution_count": null,
      "outputs": []
    },
    {
      "cell_type": "markdown",
      "source": [
        "\n# Statistics\n\n\nDemonstrates the different statistics you can use with ChainConsumer.\n\n\n\n"
      ],
      "metadata": {}
    },
    {
      "cell_type": "markdown",
      "source": [
        "By default, ChainConsumer uses maximum likelihood statistics. Thus you do not\nneed to explicitly enable maximum likelihood statistics. If you want to\nanyway, the keyword is `\"max\"`.\n\n"
      ],
      "metadata": {}
    },
    {
      "source": [
        "import numpy as np\nfrom scipy.stats import skewnorm\nfrom chainconsumer import ChainConsumer\n\n# Lets create some data here to set things up\nnp.random.seed(0)\ndata = skewnorm.rvs(5, size=(1000000, 2))\nparameters = [\"$x$\", \"$y$\"]\n\n\n# Now the normal way of giving data is passing a numpy array and parameter separately\nc = ChainConsumer().add_chain(data, parameters=parameters).configure(statistics=\"max\")\nfig = c.plotter.plot()\nfig.set_size_inches(4.5 + fig.get_size_inches())  # Resize fig for doco. You don't need this."
      ],
      "cell_type": "code",
      "metadata": {
        "collapsed": false
      },
      "execution_count": null,
      "outputs": []
    },
    {
      "cell_type": "markdown",
      "source": [
        "Or we can enable cumulative statistics\n\n"
      ],
      "metadata": {}
    },
    {
      "source": [
        "c = ChainConsumer().add_chain(data, parameters=parameters).configure(statistics=\"cumulative\")\nfig = c.plotter.plot()\nfig.set_size_inches(4.5 + fig.get_size_inches())  # Resize fig for doco. You don't need this."
      ],
      "cell_type": "code",
      "metadata": {
        "collapsed": false
      },
      "execution_count": null,
      "outputs": []
    },
    {
      "cell_type": "markdown",
      "source": [
        "Or we can enable mean statistics\n\n"
      ],
      "metadata": {}
    },
    {
      "source": [
        "c = ChainConsumer().add_chain(data, parameters=parameters).configure(statistics=\"mean\")\nfig = c.plotter.plot()\nfig.set_size_inches(4.5 + fig.get_size_inches())  # Resize fig for doco. You don't need this."
      ],
      "cell_type": "code",
      "metadata": {
        "collapsed": false
      },
      "execution_count": null,
      "outputs": []
    },
    {
      "cell_type": "markdown",
      "source": [
        "Or we can enable maximum symmetric statistics\n\n"
      ],
      "metadata": {}
    },
    {
      "source": [
        "c = ChainConsumer().add_chain(data, parameters=parameters).configure(statistics=\"max_symmetric\")\nfig = c.plotter.plot()\nfig.set_size_inches(4.5 + fig.get_size_inches())  # Resize fig for doco. You don't need this."
      ],
      "cell_type": "code",
      "metadata": {
        "collapsed": false
      },
      "execution_count": null,
      "outputs": []
    },
    {
      "cell_type": "markdown",
      "source": [
        "Or we can enable maximum closest statistics\n\n"
      ],
      "metadata": {}
    },
    {
      "source": [
        "c = ChainConsumer().add_chain(data, parameters=parameters).configure(statistics=\"max_shortest\")\nfig = c.plotter.plot()\nfig.set_size_inches(4.5 + fig.get_size_inches())  # Resize fig for doco. You don't need this."
      ],
      "cell_type": "code",
      "metadata": {
        "collapsed": false
      },
      "execution_count": null,
      "outputs": []
    },
    {
      "cell_type": "markdown",
      "source": [
        "Or we can enable maximum central statistics\n\n"
      ],
      "metadata": {}
    },
    {
      "source": [
        "c = ChainConsumer().add_chain(data, parameters=parameters).configure(statistics=\"max_central\")\nfig = c.plotter.plot()\nfig.set_size_inches(4.5 + fig.get_size_inches())  # Resize fig for doco. You don't need this."
      ],
      "cell_type": "code",
      "metadata": {
        "collapsed": false
      },
      "execution_count": null,
      "outputs": []
    },
    {
      "cell_type": "markdown",
      "source": [
        "We can also take advantage of the ability to pass lists to ChainConsumer's\nconfiguration to have report different statistics for different chains.\nPlease note, I don't recommend you do this in practise, it is just begging\nfor confusion.\n\n"
      ],
      "metadata": {}
    },
    {
      "source": [
        "c = ChainConsumer()\nstats = list(c.analysis._summaries.keys())\nfor stat in stats:\n    c.add_chain(data, parameters=parameters, name=stat.replace(\"_\", \" \").title())\nc.configure(statistics=stats, bar_shade=True)\nfig = c.plotter.plot()\nfig.set_size_inches(4.5 + fig.get_size_inches())  # Resize fig for doco. You don't need this."
      ],
      "cell_type": "code",
      "metadata": {
        "collapsed": false
      },
      "execution_count": null,
      "outputs": []
    }
  ],
  "nbformat": 4,
  "metadata": {
    "language_info": {
      "nbconvert_exporter": "python",
      "mimetype": "text/x-python",
      "codemirror_mode": {
        "name": "ipython",
        "version": 3
      },
      "name": "python",
      "file_extension": ".py",
      "version": "3.5.4",
      "pygments_lexer": "ipython3"
    },
    "kernelspec": {
      "name": "python3",
      "display_name": "Python 3",
      "language": "python"
    }
  }
}